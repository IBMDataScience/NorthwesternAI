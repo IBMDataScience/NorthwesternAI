{
 "cells": [
  {
   "cell_type": "markdown",
   "metadata": {
    "collapsed": true
   },
   "source": [
    "# IBM Watson Studio Deep Learning \n",
    "________\n",
    "## Training Runs and Experiments with Notebooks and the `Watson Machine Learning python client`\n",
    "Video Tutorial Series for Deep Learning \n",
    "_________\n",
    "This notebook first shows you how to perform an experiment with two training run for your deep learning experiments, randomly sampling from a hyperparameter space. Then, we'll use Hyperparameter optimization methods based on `RBFOpt` to find a solution more quickly. \n",
    "\n",
    "## [I. Configure Watson Machine Learning](#wml)\n",
    "* ### [Credentials and Authentication](#creds)\n",
    "\n",
    "## [II. Write The Code](#code)\n",
    "* ### [Training Definitions](#train_def)\n",
    "* ### [Experiment Definition](#experiment)\n",
    "\n",
    "## [III. Kick Off the Job](#kick)\n",
    "* ### [Monitoring](#monitor)\n",
    "________\n",
    "\n",
    "\n",
    "<a name=\"cos\"></a>\n",
    "### Review the COS Data "
   ]
  },
  {
   "cell_type": "markdown",
   "metadata": {},
   "source": [
    "We see that the training data is in our bucket from earlier. We can load the data easily."
   ]
  },
  {
   "cell_type": "markdown",
   "metadata": {},
   "source": [
    "<a name=\"wml\"></a>\n",
    "## I. Configure Watson Machine Learning\n",
    "We'll need to configure Watson Machine Learning in order to train, save, and deploy the model and experiment definition. This does not need to be strictly completed first, but we prefer to set up everything we can ahead of time :) \n",
    "\n",
    "* Associate Watson Machine Learning with your Project\n",
    "* Update to the most recent version of the client\n",
    "* Authenticate to the service\n",
    "\n",
    "\n",
    "<a name=\"creds\"></a>\n",
    "**Associate the service** with your project and **add your credentials** now. "
   ]
  },
  {
   "cell_type": "code",
   "execution_count": 4,
   "metadata": {},
   "outputs": [],
   "source": [
    "# get your credentials\n",
    "wml_credentials = {\n",
    "  \"url\": \"https://ibm-watson-ml.mybluemix.net\",\n",
    "  \"username\": \"***\",\n",
    "  \"password\": \"***\",\n",
    "  \"instance_id\": \"***\"\n",
    "}\n"
   ]
  },
  {
   "cell_type": "markdown",
   "metadata": {},
   "source": [
    "**Update the client.** The package is available via `pip` on `PyPI`. \n",
    "\n",
    "The most recent docs can be found here: http://wml-api-pyclient.mybluemix.net/"
   ]
  },
  {
   "cell_type": "code",
   "execution_count": 2,
   "metadata": {},
   "outputs": [],
   "source": [
    "!pip install --upgrade --quiet watson-machine-learning-client"
   ]
  },
  {
   "cell_type": "markdown",
   "metadata": {},
   "source": [
    "#### Import `watson-machine-learning-client` and authenticate to service instance"
   ]
  },
  {
   "cell_type": "code",
   "execution_count": 5,
   "metadata": {
    "scrolled": true
   },
   "outputs": [
    {
     "name": "stdout",
     "output_type": "stream",
     "text": [
      "1.0.109\n"
     ]
    }
   ],
   "source": [
    "from watson_machine_learning_client import WatsonMachineLearningAPIClient\n",
    "client = WatsonMachineLearningAPIClient(wml_credentials)\n",
    "\n",
    "# print the version\n",
    "print(client.version)"
   ]
  },
  {
   "cell_type": "markdown",
   "metadata": {},
   "source": [
    "<a name=\"code\"></a>\n",
    "## II. Write Your Code and Define Your Experiment\n",
    "\n",
    "### PART ONE: Multiple Training Runs, Random Hypers\n",
    "Fetch some example experiment code and configuration files. \n",
    "[IBM Watson Studio Deep Learning Coding Guidelines](https://dataplatform.ibm.com/docs/content/analyze-data/ml_dlaas_code_guidelines.html#reading-hyperparameters)\n",
    "\n",
    "* Download the code from the GH repo. This code contains `py` files with the model architecture and helper functions we'll use for metrics\n",
    "* Store your training definition"
   ]
  },
  {
   "cell_type": "code",
   "execution_count": 6,
   "metadata": {},
   "outputs": [],
   "source": [
    "# get the experiment zip and write it to local\n",
    "with open('experiment-random.zip', 'wb') as f:\n",
    "    f.write(project.get_file('experiment.zip').read())"
   ]
  },
  {
   "cell_type": "code",
   "execution_count": 7,
   "metadata": {},
   "outputs": [],
   "source": [
    "# your COS credentials\n",
    "cos_credentials = {\n",
    "  \"apikey\": \"***\",\n",
    "  \"cos_hmac_keys\": {\n",
    "    \"access_key_id\": \"***\",\n",
    "    \"secret_access_key\": \"***\"\n",
    "  },\n",
    "  \"endpoints\": \"https://cos-service.bluemix.net/endpoints\",\n",
    "  \"iam_apikey_description\": \"Auto generated apikey during resource-key operation for Instance - crn:v1:bluemix:public:cloud-object-storage:global:a/7d7bba8d3af690913ac4403733b01605:5cbade09-286a-47de-ab17-7fc51ba1a373::\",\n",
    "  \"iam_apikey_name\": \"auto-generated-apikey-dd670e5e-3668-4fb3-804e-b21fe014b81e\",\n",
    "  \"iam_role_crn\": \"crn:v1:bluemix:public:iam::::serviceRole:Manager\",\n",
    "  \"iam_serviceid_crn\": \"***\",\n",
    "  \"resource_instance_id\": \"***\"\n",
    "}\n",
    "\n",
    "\n",
    "api_key = cos_credentials['apikey']\n",
    "service_instance_id = cos_credentials['resource_instance_id']\n",
    "auth_endpoint = 'https://iam.bluemix.net/oidc/token'\n",
    "service_endpoint = 'https://s3-api.us-geo.objectstorage.softlayer.net'\n",
    "\n",
    "# our bucket names\n",
    "buckets = ['fashion-mnist-training-data-massachi-1', 'fashion-mnist-results-data-massachi-1']"
   ]
  },
  {
   "cell_type": "code",
   "execution_count": 8,
   "metadata": {},
   "outputs": [],
   "source": [
    "import ibm_boto3\n",
    "from ibm_botocore.client import Config\n",
    "import os\n",
    "import json\n",
    "import warnings\n",
    "import time\n",
    "cos = ibm_boto3.resource('s3',\n",
    "                         ibm_api_key_id=api_key,\n",
    "                         ibm_service_instance_id=service_instance_id,\n",
    "                         ibm_auth_endpoint=auth_endpoint,\n",
    "                         config=Config(signature_version='oauth'),\n",
    "                         endpoint_url=service_endpoint)"
   ]
  },
  {
   "cell_type": "markdown",
   "metadata": {},
   "source": [
    "<a name=\"train_def\"></a>\n",
    "### Training definitions\n",
    "\n",
    "Training runs are the organizing principle for using deep learning functions in IBM Watson Machine Learning. A typical scenario might consist of dozens to hundreds of training runs. Each run is defined individually and consists of the following parts: the neural network defined by using one of the supported deep learning frameworks and the configuration for how to run your training including the number of GPUs and location of the IBM Cloud Object Storage that contains your data set.\n",
    "\n",
    "More **docs on specifying the training definiton** here: https://dataplatform.ibm.com/docs/content/analyze-data/ml_dlaas_working_with_new_models.html?context=analytics\n",
    "\n",
    "**Coding guidelines** for DL Experiments: https://dataplatform.ibm.com/docs/content/analyze-data/ml_dlaas_code_guidelines.html"
   ]
  },
  {
   "cell_type": "code",
   "execution_count": 9,
   "metadata": {},
   "outputs": [],
   "source": [
    "# the model metadata is used by the Watson Machine Learning Client to run your training to your specifications\n",
    "model_definition_1_metadata = {\n",
    "            client.repository.DefinitionMetaNames.NAME: \"FASHION-MNIST-TEST\",\n",
    "            client.repository.DefinitionMetaNames.FRAMEWORK_NAME: \"tensorflow\",\n",
    "            client.repository.DefinitionMetaNames.FRAMEWORK_VERSION: \"1.5\",\n",
    "            client.repository.DefinitionMetaNames.RUNTIME_NAME: \"python\",\n",
    "            client.repository.DefinitionMetaNames.RUNTIME_VERSION: \"3.5\",\n",
    "            client.repository.DefinitionMetaNames.EXECUTION_COMMAND: \"python experiment.py\"\n",
    "            }"
   ]
  },
  {
   "cell_type": "markdown",
   "metadata": {},
   "source": [
    "**Store the training definition**\n",
    "\n",
    "We store the training definition for later use when we trigger training."
   ]
  },
  {
   "cell_type": "code",
   "execution_count": 11,
   "metadata": {},
   "outputs": [
    {
     "name": "stdout",
     "output_type": "stream",
     "text": [
      "https://ibm-watson-ml.mybluemix.net/v3/ml_assets/training_definitions/226f65cd-dc0a-4af7-8215-f30a9f300320\n"
     ]
    }
   ],
   "source": [
    "definition_1_details = client.repository.store_definition('experiment-random.zip', model_definition_1_metadata)\n",
    "\n",
    "definition_1_url = client.repository.get_definition_url(definition_1_details)\n",
    "definition_1_uid = client.repository.get_definition_uid(definition_1_details)\n",
    "print(definition_1_url)"
   ]
  },
  {
   "cell_type": "markdown",
   "metadata": {},
   "source": [
    "**List your training definitions**\n",
    "\n",
    "You can use the client to inspect training definitions that you've already saved\n",
    "\n"
   ]
  },
  {
   "cell_type": "code",
   "execution_count": 12,
   "metadata": {},
   "outputs": [
    {
     "name": "stdout",
     "output_type": "stream",
     "text": [
      "------------------------------------  ------------------------------------  ------------------------  ----------\n",
      "GUID                                  NAME                                  CREATED                   FRAMEWORK\n",
      "125accbc-995d-4548-b921-8590c18a1ead  UdacityCollabRecSystem-Collaborators  2018-04-26T17:04:50.543Z  mllib\n",
      "6c2d2cd5-f35e-4569-9379-8f15d85e7252  FASHION-MNIST                         2018-05-08T22:34:05.407Z  tensorflow\n",
      "114ecf90-ef33-4d49-a46c-e844d1a16d0c  new_experiment_builder                2018-05-08T22:44:30.363Z  tensorflow\n",
      "a1622bf6-36d9-4189-a3ed-5636d490c9fd  new_experiment                        2018-05-08T22:45:35.467Z  tensorflow\n",
      "4d8fa5e5-6494-48af-8aae-7db3a49e10c2  EADef_NOHPO                           2018-05-08T22:50:59.476Z  tensorflow\n",
      "74bea46a-88a3-41e2-8b29-215221445336  MASSACHI_NOPO                         2018-05-08T23:09:30.145Z  tensorflow\n",
      "5a77c58c-8666-4daa-abeb-245c7acaf665  NEW_DEF                               2018-05-08T23:14:03.448Z  tensorflow\n",
      "322f0936-1cd7-4e36-88b6-15af308a03f1  HPO_LR                                2018-05-08T23:19:03.086Z  tensorflow\n",
      "198b265f-39a9-46ce-8bc8-5a6ee734e1bf  HELLO_WORLD                           2018-05-08T23:22:07.140Z  tensorflow\n",
      "2d34a8ef-70a0-45a6-9b24-9bb440ac3949  NOPO_DEF                              2018-05-09T00:30:18.484Z  tensorflow\n",
      "052b73cf-d24e-4fd9-a1c3-58cd5ae7da5e  FASHION-MNIST                         2018-05-09T21:40:56.477Z  tensorflow\n",
      "57a05efe-c756-427b-a8f4-e62b35bbf243  tested_is                             2018-05-09T21:48:19.166Z  tensorflow\n",
      "0cdcf2a9-7cef-4a7d-9239-60d3b3343ef0  FASHION-MNIST                         2018-05-09T21:55:07.322Z  tensorflow\n",
      "7b5fd9fd-395c-4ccd-ab96-3e8171bc7965  minimal                               2018-05-09T21:57:07.973Z  tensorflow\n",
      "e4f57315-0be0-459b-9979-9f42caf80902  FASHION-MNIST-TEST                    2018-05-09T22:02:06.163Z  tensorflow\n",
      "ebbcf00e-c636-4d51-9b75-35658c456f99  mynewtest                             2018-05-09T22:04:56.595Z  tensorflow\n",
      "33702d9e-076f-4bd7-a973-2493ee5978a4  tet3                                  2018-05-09T22:28:37.002Z  tensorflow\n",
      "48e39fa2-d7c2-451d-8654-4dadcf603700  test                                  2018-05-09T22:32:58.768Z  tensorflow\n",
      "5b3ed9f3-9402-44f0-b005-d4d47cfe3f25  AP_TEST2                              2018-05-09T22:47:43.561Z  tensorflow\n",
      "7663fdad-7a75-4476-8bda-d17a08f82317  ap2_def                               2018-05-09T22:54:26.896Z  tensorflow\n",
      "2a288f4f-d8de-42e9-b3ba-f77193d491c5  new_test                              2018-05-09T23:01:26.122Z  tensorflow\n",
      "1ba8e269-3236-4243-8b78-0ceaeed51a7f  noyaml                                2018-05-09T23:03:21.879Z  tensorflow\n",
      "b00e9306-f76a-419f-ac0d-c2d0ee7af4a0  testing                               2018-05-09T23:08:59.890Z  tensorflow\n",
      "ff1e95c3-002e-40af-aeee-a4eb2c856339  noyaml                                2018-05-09T23:26:16.249Z  tensorflow\n",
      "27f2dde9-68b3-4def-8710-9029c437f0f6  APEXPO                                2018-05-09T23:35:22.260Z  tensorflow\n",
      "c91f6509-8e33-42d6-b551-20272c5fe8ce  FASHION-MNIST-TEST                    2018-05-10T00:02:33.655Z  tensorflow\n",
      "7b9cf5b1-5f90-4f0a-8e66-4e5e7da040c1  FASHION-MNIST-TEST                    2018-05-10T00:30:45.747Z  tensorflow\n",
      "226f65cd-dc0a-4af7-8215-f30a9f300320  FASHION-MNIST-TEST                    2018-05-10T00:30:52.489Z  tensorflow\n",
      "------------------------------------  ------------------------------------  ------------------------  ----------\n"
     ]
    }
   ],
   "source": [
    "client.repository.list_definitions()"
   ]
  },
  {
   "cell_type": "markdown",
   "metadata": {},
   "source": [
    "<a name=\"experiment\"></a>\n",
    "### Experiment Definition\n",
    "Define and save the experiment. \n",
    "\n",
    "There are a few configuration parameters we need to set. "
   ]
  },
  {
   "cell_type": "code",
   "execution_count": 13,
   "metadata": {},
   "outputs": [
    {
     "name": "stdout",
     "output_type": "stream",
     "text": [
      "--------------------------  ----  --------\n",
      "META_PROP NAME              TYPE  REQUIRED\n",
      "NAME                        str   Y\n",
      "TAGS                        list  N\n",
      "DESCRIPTION                 str   N\n",
      "AUTHOR_NAME                 str   N\n",
      "EVALUATION_METHOD           str   N\n",
      "EVALUATION_METRICS          list  N\n",
      "TRAINING_REFERENCES         list  Y\n",
      "TRAINING_DATA_REFERENCE     dict  Y\n",
      "TRAINING_RESULTS_REFERENCE  dict  Y\n",
      "--------------------------  ----  --------\n"
     ]
    }
   ],
   "source": [
    "# show the experiment params\n",
    "client.repository.ExperimentMetaNames.show()"
   ]
  },
  {
   "cell_type": "markdown",
   "metadata": {},
   "source": [
    "#### Experiment configuration dictionary\n",
    "Create experiment that will train models based on previously stored definitions.\n",
    "\n",
    "\n",
    "First, we have `TRAINING_DATA_REFERENCE` which specifies the location of traininng data:"
   ]
  },
  {
   "cell_type": "code",
   "execution_count": 14,
   "metadata": {},
   "outputs": [],
   "source": [
    "TRAINING_DATA_REFERENCE = {\n",
    "                            \"connection\": {\n",
    "                                \"endpoint_url\": service_endpoint,\n",
    "                                \"aws_access_key_id\": cos_credentials['cos_hmac_keys']['access_key_id'],\n",
    "                                \"aws_secret_access_key\": cos_credentials['cos_hmac_keys']['secret_access_key']\n",
    "                            },\n",
    "                            \"source\": {\n",
    "                                \"bucket\": buckets[0],\n",
    "                            },\n",
    "                            \"type\": \"s3\"\n",
    "}"
   ]
  },
  {
   "cell_type": "markdown",
   "metadata": {},
   "source": [
    "Next, where to store the results. \n",
    "\n",
    "`TRAINING_RESULTS_REFERENCE` is the location of training results, including the logs, trained model, and any other outputs."
   ]
  },
  {
   "cell_type": "code",
   "execution_count": 15,
   "metadata": {},
   "outputs": [],
   "source": [
    "TRAINING_RESULTS_REFERENCE = {\n",
    "                                \"connection\": {\n",
    "                                    \"endpoint_url\": service_endpoint,\n",
    "                                    \"aws_access_key_id\": cos_credentials['cos_hmac_keys']['access_key_id'],\n",
    "                                    \"aws_secret_access_key\": cos_credentials['cos_hmac_keys']['secret_access_key']\n",
    "                                },\n",
    "                                \"target\": {\n",
    "                                    \"bucket\": buckets[1],\n",
    "                                },\n",
    "                                \"type\": \"s3\"\n",
    "}"
   ]
  },
  {
   "cell_type": "markdown",
   "metadata": {},
   "source": [
    "**Configure your experiment.**\n",
    "\n",
    "`TRAINING_REFERENCES` links previously stored training definitions and provides information about `compute_configuration` that will be used to run the training."
   ]
  },
  {
   "cell_type": "code",
   "execution_count": 16,
   "metadata": {},
   "outputs": [],
   "source": [
    "experiment_metadata = {\n",
    "            client.repository.ExperimentMetaNames.NAME: \"FASHION-MNIST-EXPERIMENT-RANDOM\",\n",
    "            client.repository.ExperimentMetaNames.DESCRIPTION: \"Finding the best model for Fashion MNIST\",\n",
    "            client.repository.ExperimentMetaNames.EVALUATION_METHOD: \"multiclass\",\n",
    "            client.repository.ExperimentMetaNames.EVALUATION_METRICS: [\"val_acc\"],\n",
    "            client.repository.ExperimentMetaNames.TRAINING_DATA_REFERENCE: TRAINING_DATA_REFERENCE,\n",
    "            client.repository.ExperimentMetaNames.TRAINING_RESULTS_REFERENCE: TRAINING_RESULTS_REFERENCE,\n",
    "            client.repository.ExperimentMetaNames.TRAINING_REFERENCES: [\n",
    "                        {\n",
    "                            \"name\": \"FASHION-MNIST-1\",\n",
    "                            \"training_definition_url\": definition_1_url,\n",
    "                            \"compute_configuration\": {\"name\": \"k80\"}\n",
    "                            \n",
    "                            \n",
    "                        },\n",
    "                        {\n",
    "                            \"name\": \"FASHION-MNIST-2\",\n",
    "                            \"training_definition_url\": definition_1_url,\n",
    "                            \"compute_configuration\": {\"name\": \"k80\"}\n",
    "                            \n",
    "                            \n",
    "                        }\n",
    "            \n",
    "            ]\n",
    "        }"
   ]
  },
  {
   "cell_type": "markdown",
   "metadata": {},
   "source": [
    "Now that we've defined our experiment, we can **save the experiment** in our Watson Machine Learning Repository. "
   ]
  },
  {
   "cell_type": "code",
   "execution_count": 17,
   "metadata": {},
   "outputs": [
    {
     "name": "stdout",
     "output_type": "stream",
     "text": [
      "a5a54d95-25bb-4dec-afaf-b3c8da2ca1f3\n"
     ]
    }
   ],
   "source": [
    "experiment_details = client.repository.store_experiment(meta_props=experiment_metadata)\n",
    "\n",
    "experiment_uid = client.repository.get_experiment_uid(experiment_details)\n",
    "print(experiment_uid)"
   ]
  },
  {
   "cell_type": "code",
   "execution_count": 18,
   "metadata": {},
   "outputs": [
    {
     "name": "stdout",
     "output_type": "stream",
     "text": [
      "------------------------------------  -------------------------------  ------------------------\n",
      "GUID                                  NAME                             CREATED\n",
      "3575183e-b308-4445-b5e9-48679a90f45e  MNIST experiment                 2018-04-27T12:40:33.938Z\n",
      "3da79b55-3aa8-4658-838e-254cf4ecab06  APCODE                           2018-05-09T23:35:28.077Z\n",
      "93762f51-ef85-4dd4-b511-6c572be25d6c  FASHION-MNIST-EXPERIMENT-RANDOM  2018-05-10T00:03:12.213Z\n",
      "a5a54d95-25bb-4dec-afaf-b3c8da2ca1f3  FASHION-MNIST-EXPERIMENT-RANDOM  2018-05-10T00:34:06.034Z\n",
      "------------------------------------  -------------------------------  ------------------------\n"
     ]
    }
   ],
   "source": [
    "# list all of our experiments\n",
    "client.repository.list_experiments()"
   ]
  },
  {
   "cell_type": "markdown",
   "metadata": {},
   "source": [
    "You can **update an experiment definition** by calling the below method."
   ]
  },
  {
   "cell_type": "code",
   "execution_count": 19,
   "metadata": {},
   "outputs": [],
   "source": [
    "# update an experiment if you'd like\n",
    "updated_experiment_details = client.repository.update_experiment(experiment_uid, experiment_metadata)"
   ]
  },
  {
   "cell_type": "markdown",
   "metadata": {},
   "source": [
    "You can also **get and delete** information about your experiments"
   ]
  },
  {
   "cell_type": "code",
   "execution_count": 20,
   "metadata": {},
   "outputs": [],
   "source": [
    "# delete -- not run\n",
    "# client.repository.delete(experiment_uid)\n",
    "\n",
    "# get details\n",
    "details = client.repository.get_experiment_details(experiment_uid)"
   ]
  },
  {
   "cell_type": "code",
   "execution_count": 21,
   "metadata": {},
   "outputs": [
    {
     "data": {
      "text/plain": [
       "{'entity': {'settings': {'author': {},\n",
       "   'description': 'Finding the best model for Fashion MNIST',\n",
       "   'evaluation_definition': {'method': 'multiclass',\n",
       "    'metrics': [{'name': 'val_acc'}]},\n",
       "   'name': 'FASHION-MNIST-EXPERIMENT-RANDOM'},\n",
       "  'training_data_reference': {'connection': {'aws_access_key_id': 'dd670e5e36684fb3804eb21fe014b81e',\n",
       "    'aws_secret_access_key': 'fdf4299fe4664d83ebfe5f1cbe916086e092673cca95e2db',\n",
       "    'endpoint_url': 'https://s3-api.us-geo.objectstorage.softlayer.net'},\n",
       "   'source': {'bucket': 'fashion-mnist-training-data-massachi-1'},\n",
       "   'type': 's3'},\n",
       "  'training_references': [{'command': 'python experiment.py',\n",
       "    'compute_configuration': {'name': 'k80'},\n",
       "    'name': 'FASHION-MNIST-1',\n",
       "    'training_definition_url': 'https://ibm-watson-ml.mybluemix.net/v3/ml_assets/training_definitions/226f65cd-dc0a-4af7-8215-f30a9f300320'},\n",
       "   {'command': 'python experiment.py',\n",
       "    'compute_configuration': {'name': 'k80'},\n",
       "    'name': 'FASHION-MNIST-2',\n",
       "    'training_definition_url': 'https://ibm-watson-ml.mybluemix.net/v3/ml_assets/training_definitions/226f65cd-dc0a-4af7-8215-f30a9f300320'}],\n",
       "  'training_results_reference': {'connection': {'aws_access_key_id': 'dd670e5e36684fb3804eb21fe014b81e',\n",
       "    'aws_secret_access_key': 'fdf4299fe4664d83ebfe5f1cbe916086e092673cca95e2db',\n",
       "    'endpoint_url': 'https://s3-api.us-geo.objectstorage.softlayer.net'},\n",
       "   'target': {'bucket': 'fashion-mnist-results-data-massachi-1'},\n",
       "   'type': 's3'}},\n",
       " 'metadata': {'created_at': '2018-05-10T00:34:06.034Z',\n",
       "  'guid': 'a5a54d95-25bb-4dec-afaf-b3c8da2ca1f3',\n",
       "  'modified_at': '2018-05-10T00:34:24.830Z',\n",
       "  'url': 'https://ibm-watson-ml.mybluemix.net/v3/experiments/a5a54d95-25bb-4dec-afaf-b3c8da2ca1f3'}}"
      ]
     },
     "execution_count": 21,
     "metadata": {},
     "output_type": "execute_result"
    }
   ],
   "source": [
    "details"
   ]
  },
  {
   "cell_type": "markdown",
   "metadata": {},
   "source": [
    "<a name=\"kick\"></a>\n",
    "## III. Kick Off the Job\n",
    "Let's start the training run"
   ]
  },
  {
   "cell_type": "code",
   "execution_count": 22,
   "metadata": {},
   "outputs": [],
   "source": [
    "# run with async true\n",
    "experiment_run_details = client.experiments.run(experiment_uid, asynchronous=True)"
   ]
  },
  {
   "cell_type": "code",
   "execution_count": 23,
   "metadata": {},
   "outputs": [
    {
     "data": {
      "text/plain": [
       "{'entity': {'experiment_run_status': {'current_at': '2018-05-10T00:35:06Z',\n",
       "   'current_iteration': 1,\n",
       "   'state': 'pending',\n",
       "   'submitted_at': '2018-05-10T00:35:06Z'},\n",
       "  'training_statuses': []},\n",
       " 'experiment': {'evaluation_definition': {'method': 'multiclass',\n",
       "   'metrics': [{'name': 'val_acc'}]},\n",
       "  'guid': 'a5a54d95-25bb-4dec-afaf-b3c8da2ca1f3',\n",
       "  'url': '/v3/experiments/a5a54d95-25bb-4dec-afaf-b3c8da2ca1f3'},\n",
       " 'metadata': {'created_at': '2018-05-10T00:35:06Z',\n",
       "  'guid': 'c3b66a9e-42fb-4bf9-9029-b56990faaa8e',\n",
       "  'modified_at': '2018-05-10T00:35:06Z',\n",
       "  'url': '/v3/experiments/a5a54d95-25bb-4dec-afaf-b3c8da2ca1f3/runs/c3b66a9e-42fb-4bf9-9029-b56990faaa8e'}}"
      ]
     },
     "execution_count": 23,
     "metadata": {},
     "output_type": "execute_result"
    }
   ],
   "source": [
    "# let's check the details \n",
    "experiment_run_details"
   ]
  },
  {
   "cell_type": "markdown",
   "metadata": {},
   "source": [
    "You can **list your running experiments** and check their state"
   ]
  },
  {
   "cell_type": "code",
   "execution_count": 24,
   "metadata": {},
   "outputs": [
    {
     "name": "stdout",
     "output_type": "stream",
     "text": [
      "------------------------------------  ------------------------------------  -------------------------------  ---------  --------------------\n",
      "GUID (experiment)                     GUID (run)                            NAME (experiment)                STATE      CREATED\n",
      "3575183e-b308-4445-b5e9-48679a90f45e  03533ec9-2846-4e5a-95ed-d2dd2d004fdd  MNIST experiment                 completed  2018-04-27T12:40:40Z\n",
      "3da79b55-3aa8-4658-838e-254cf4ecab06  4bd67ea3-faba-45c9-817d-3431dba685a8  APCODE                           completed  2018-05-09T23:35:28Z\n",
      "93762f51-ef85-4dd4-b511-6c572be25d6c  515f8134-548c-4ec9-9423-3817af68044f  FASHION-MNIST-EXPERIMENT-RANDOM  completed  2018-05-10T00:03:24Z\n",
      "a5a54d95-25bb-4dec-afaf-b3c8da2ca1f3  c3b66a9e-42fb-4bf9-9029-b56990faaa8e  FASHION-MNIST-EXPERIMENT-RANDOM  pending    2018-05-10T00:35:06Z\n",
      "------------------------------------  ------------------------------------  -------------------------------  ---------  --------------------\n"
     ]
    }
   ],
   "source": [
    "client.experiments.list_runs()"
   ]
  },
  {
   "cell_type": "code",
   "execution_count": 28,
   "metadata": {},
   "outputs": [
    {
     "data": {
      "text/plain": [
       "{'best_results': {'experiment_best_model': {'training_guid': 'training-mghlo4nig',\n",
       "   'training_reference_name': 'FASHION-MNIST-2',\n",
       "   'training_url': 'https://ibm-watson-ml.mybluemix.net/v3/ml_assets/training_definitions/226f65cd-dc0a-4af7-8215-f30a9f300320'},\n",
       "  'training_reference_best_model': [{'training_guid': 'training-27h_TV7ig',\n",
       "    'training_reference_name': 'FASHION-MNIST-1',\n",
       "    'training_url': 'https://ibm-watson-ml.mybluemix.net/v3/ml_assets/training_definitions/226f65cd-dc0a-4af7-8215-f30a9f300320'},\n",
       "   {'training_guid': 'training-mghlo4nig',\n",
       "    'training_reference_name': 'FASHION-MNIST-2',\n",
       "    'training_url': 'https://ibm-watson-ml.mybluemix.net/v3/ml_assets/training_definitions/226f65cd-dc0a-4af7-8215-f30a9f300320'}]},\n",
       " 'current_at': '2018-05-10T00:35:06Z',\n",
       " 'current_iteration': 1,\n",
       " 'state': 'completed',\n",
       " 'submitted_at': '2018-05-10T00:35:06Z'}"
      ]
     },
     "execution_count": 28,
     "metadata": {},
     "output_type": "execute_result"
    }
   ],
   "source": [
    "client.experiments.get_status('c3b66a9e-42fb-4bf9-9029-b56990faaa8e')"
   ]
  },
  {
   "cell_type": "code",
   "execution_count": 29,
   "metadata": {},
   "outputs": [],
   "source": [
    "# get the experiment run uid\n",
    "experiment_run_uid = client.experiments.get_run_uid(experiment_run_details)\n",
    "\n",
    "# get the experiment details\n",
    "experiment_details = client.experiments.get_details(experiment_uid)\n"
   ]
  },
  {
   "cell_type": "markdown",
   "metadata": {},
   "source": [
    "Let's **check the status of our runs in this experiment**"
   ]
  },
  {
   "cell_type": "code",
   "execution_count": 30,
   "metadata": {},
   "outputs": [
    {
     "name": "stdout",
     "output_type": "stream",
     "text": [
      "------------------  ---------------  ---------  --------------------  --------------------  --------------------\n",
      "GUID (training)     NAME             STATE      SUBMITTED             FINISHED              PERFORMANCE\n",
      "training-27h_TV7ig  FASHION-MNIST-1  completed  2018-05-10T00:35:08Z  2018-05-10T00:38:38Z  test:acc=0.8392\n",
      "                                                                                            test:loss=0.4454\n",
      "                                                                                            test:val_acc=0.7992\n",
      "                                                                                            test:val_loss=2.8896\n",
      "training-mghlo4nig  FASHION-MNIST-2  completed  2018-05-10T00:35:08Z  2018-05-10T00:38:50Z  test:acc=0.8439\n",
      "                                                                                            test:loss=0.4355\n",
      "                                                                                            test:val_acc=0.8347\n",
      "                                                                                            test:val_loss=2.3824\n",
      "------------------  ---------------  ---------  --------------------  --------------------  --------------------\n"
     ]
    }
   ],
   "source": [
    "# list all training runs\n",
    "client.experiments.list_training_runs(experiment_run_uid)\n"
   ]
  },
  {
   "cell_type": "code",
   "execution_count": null,
   "metadata": {},
   "outputs": [],
   "source": []
  }
 ],
 "metadata": {
  "kernelspec": {
   "display_name": "Python 3.5",
   "language": "python",
   "name": "python3"
  },
  "language_info": {
   "codemirror_mode": {
    "name": "ipython",
    "version": 3
   },
   "file_extension": ".py",
   "mimetype": "text/x-python",
   "name": "python",
   "nbconvert_exporter": "python",
   "pygments_lexer": "ipython3",
   "version": "3.5.4"
  }
 },
 "nbformat": 4,
 "nbformat_minor": 1
}
