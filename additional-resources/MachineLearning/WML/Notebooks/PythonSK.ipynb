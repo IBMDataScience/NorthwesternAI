{
 "cells": [
  {
   "cell_type": "markdown",
   "metadata": {},
   "source": [
    "<table style=\"border: none\" align=\"left\">\n",
    "   <tr style=\"border: none\">\n",
    "      <th style=\"border: none\"><font face=\"verdana\" size=\"5\" color=\"black\"><b>Use scikit-learn to predict hand-written digits</b></th>\n",
    "      <th style=\"border: none\"><img src=\"https://github.com/pmservice/customer-satisfaction-prediction/blob/master/app/static/images/ml_icon_gray.png?raw=true\" alt=\"Watson Machine Learning icon\" height=\"40\" width=\"40\"></th>\n",
    "   </tr>\n",
    "   <tr style=\"border: none\">\n",
    "       <th style=\"border: none\"><img src=\"https://github.com/pmservice/wml-sample-models/raw/master/scikit-learn/hand-written-digits-recognition/images/numbers_banner-04.png\" width=\"600\" alt=\"Icon\"> </th>\n",
    "   </tr>\n",
    "</table>"
   ]
  },
  {
   "cell_type": "markdown",
   "metadata": {},
   "source": [
    "This notebook contains the steps and code to work with the [watson-machine-learning-client](https://pypi.python.org/pypi/watson-machine-learning-client) library available in PyPI repository. This notebook introduces commands for getting data and for basic data exploration, pipeline creation, model training and evaluation, model persistance to the Watson Machine Learning (WML) repository, model deployment, and scoring.\n",
    "\n",
    "Some familiarity with Python is helpful. This notebook uses Python 3.5, scikit-learn and the watson-machine-learning-client package.\n",
    "\n",
    "You will use the sample data set of hand-written digit images, **sklearn.datasets.load_digits**, which is available in scikit-learn, to recognize hand-written digits.\n",
    "\n",
    "## Learning goals\n",
    "\n",
    "In this notebook, you will learn how to:\n",
    "\n",
    "-  Load a sample data set from ``scikit-learn``.\n",
    "-  Explore data.\n",
    "-  Prepare data for training and evaluation.\n",
    "-  Create an scikit-learn machine learning pipeline.\n",
    "-  Train and evaluate a model.\n",
    "-  Store a model in the Watson Machine Learning (WML) repository.\n",
    "-  Deploy a model for online scoring using the client library.\n",
    "-  Score sample records using the client library.\n",
    "\n",
    "\n",
    "## Contents\n",
    "\n",
    "1.\t[Set up the environment](#setup)\n",
    "2.\t[Load and explore data](#load)\n",
    "3.\t[Create the scikit-learn model](#model)\n",
    "4.\t[Save the model](#persistence)\n",
    "5.\t[Deploy and score data in the IBM Cloud](#scoring)\n",
    "6.\t[Summary and next steps](#summary)"
   ]
  },
  {
   "cell_type": "markdown",
   "metadata": {},
   "source": [
    "<a id=\"setup\"></a>\n",
    "## 1. Set up the environment\n",
    "\n",
    "Before you use the sample code in this notebook, you must perform the following setup tasks:\n",
    "\n",
    "-  Create a [Watson Machine Learning (WML) Service](https://console.ng.bluemix.net/catalog/services/ibm-watson-machine-learning/) instance (a free plan is offered and information about how to create the instance is [here](https://dataplatform.ibm.com/docs/content/analyze-data/wml-setup.html))\n",
    "\n",
    "- Configure your local python environment:\n",
    "  + python 3.5\n",
    "  + scikit-learn 0.19.1\n",
    "  + watson-machine-learning-client"
   ]
  },
  {
   "cell_type": "markdown",
   "metadata": {},
   "source": [
    "**Tip**: Run the cell below to install libraries from <a href=\"https://pypi.python.org/pypi\" target=\"_blank\" rel=\"noopener no referrer\">PyPI</a>."
   ]
  },
  {
   "cell_type": "code",
   "execution_count": 1,
   "metadata": {},
   "outputs": [],
   "source": [
    "!rm -rf $PIP_BUILD/watson-machine-learning-client"
   ]
  },
  {
   "cell_type": "code",
   "execution_count": null,
   "metadata": {},
   "outputs": [],
   "source": [
    "!pip install watson-machine-learning-client --upgrade"
   ]
  },
  {
   "cell_type": "markdown",
   "metadata": {},
   "source": [
    "<a id=\"load\"></a>\n",
    "## 2. Load and explore data"
   ]
  },
  {
   "cell_type": "markdown",
   "metadata": {},
   "source": [
    "In this section you will load the data from scikit-learn sample data sets and then perform a basic exploration."
   ]
  },
  {
   "cell_type": "code",
   "execution_count": 3,
   "metadata": {},
   "outputs": [],
   "source": [
    "# Load the data.\n",
    "import sklearn\n",
    "from sklearn import datasets\n",
    "\n",
    "digits = datasets.load_digits()"
   ]
  },
  {
   "cell_type": "markdown",
   "metadata": {},
   "source": [
    "The sample data set consists of 8x8 pixel images of hand-written digits."
   ]
  },
  {
   "cell_type": "markdown",
   "metadata": {},
   "source": [
    "Display the first digit data and label using **data** and **target**."
   ]
  },
  {
   "cell_type": "code",
   "execution_count": 4,
   "metadata": {},
   "outputs": [
    {
     "name": "stdout",
     "output_type": "stream",
     "text": [
      "[[  0.   0.   5.  13.   9.   1.   0.   0.]\n",
      " [  0.   0.  13.  15.  10.  15.   5.   0.]\n",
      " [  0.   3.  15.   2.   0.  11.   8.   0.]\n",
      " [  0.   4.  12.   0.   0.   8.   8.   0.]\n",
      " [  0.   5.   8.   0.   0.   9.   8.   0.]\n",
      " [  0.   4.  11.   0.   1.  12.   7.   0.]\n",
      " [  0.   2.  14.   5.  10.  12.   0.   0.]\n",
      " [  0.   0.   6.  13.  10.   0.   0.   0.]]\n"
     ]
    }
   ],
   "source": [
    "print(digits.data[0].reshape((8, 8)))"
   ]
  },
  {
   "cell_type": "code",
   "execution_count": 5,
   "metadata": {},
   "outputs": [
    {
     "data": {
      "text/plain": [
       "0"
      ]
     },
     "execution_count": 5,
     "metadata": {},
     "output_type": "execute_result"
    }
   ],
   "source": [
    "digits.target[0]"
   ]
  },
  {
   "cell_type": "markdown",
   "metadata": {},
   "source": [
    "In the next step, count the data examples."
   ]
  },
  {
   "cell_type": "code",
   "execution_count": 6,
   "metadata": {},
   "outputs": [
    {
     "name": "stdout",
     "output_type": "stream",
     "text": [
      "Number of samples: 1797\n"
     ]
    }
   ],
   "source": [
    "# Calculate the number of samples.\n",
    "samples_count = len(digits.images)\n",
    "\n",
    "print(\"Number of samples: \" + str(samples_count))"
   ]
  },
  {
   "cell_type": "markdown",
   "metadata": {},
   "source": [
    "<a id=\"model\"></a>\n",
    "## 3. Create a scikit-learn model\n",
    "\n",
    "In this section you learn how to:\n",
    "- [Prepare the data](#prep)\n",
    "- [Create the scikit-learn machine learning pipeline](#pipe)\n",
    "- [Train a model](#train)"
   ]
  },
  {
   "cell_type": "markdown",
   "metadata": {},
   "source": [
    "### 3.1 Prepare the data<a id=\"prep\"></a>\n",
    "\n",
    "In this subsection you will split your data into: \n",
    "- Train data set\n",
    "- Test data set\n",
    "- Score data sets"
   ]
  },
  {
   "cell_type": "code",
   "execution_count": 7,
   "metadata": {},
   "outputs": [
    {
     "name": "stdout",
     "output_type": "stream",
     "text": [
      "Number of training records: 1257\n",
      "Number of testing records : 360\n",
      "Number of scoring records : 180\n"
     ]
    }
   ],
   "source": [
    "# Split the data into data sets and display the number of records for each data set.\n",
    "train_data = digits.data[: int(0.7*samples_count)]\n",
    "train_labels = digits.target[: int(0.7*samples_count)]\n",
    "\n",
    "test_data = digits.data[int(0.7*samples_count): int(0.9*samples_count)]\n",
    "test_labels = digits.target[int(0.7*samples_count): int(0.9*samples_count)]\n",
    "\n",
    "score_data = digits.data[int(0.9*samples_count): ]\n",
    "\n",
    "print(\"Number of training records: \" + str(len(train_data)))\n",
    "print(\"Number of testing records : \" + str(len(test_data)))\n",
    "print(\"Number of scoring records : \" + str(len(score_data)))"
   ]
  },
  {
   "cell_type": "markdown",
   "metadata": {},
   "source": [
    "Your data has been successfully split into three data sets: \n",
    "\n",
    "-  The train data set, which is the largest group, is used for training.\n",
    "-  The test data set will be used for model evaluation and is used to test the assumptions of the model.\n",
    "-  The score data set will be used for scoring in Cloud."
   ]
  },
  {
   "cell_type": "markdown",
   "metadata": {},
   "source": [
    "### 3.2 Create the scikit-learn machine learning pipeline<a id=\"pipe\"></a>"
   ]
  },
  {
   "cell_type": "markdown",
   "metadata": {},
   "source": [
    "In this section you will create a scikit-learn machine learning pipeline and then train the model."
   ]
  },
  {
   "cell_type": "markdown",
   "metadata": {},
   "source": [
    "First, import the scikit-learn machine learning packages that are needed in the subsequent steps."
   ]
  },
  {
   "cell_type": "code",
   "execution_count": 8,
   "metadata": {},
   "outputs": [],
   "source": [
    "# Import scikit-learn packages\n",
    "from sklearn.pipeline import Pipeline\n",
    "from sklearn import preprocessing\n",
    "from sklearn import svm, metrics"
   ]
  },
  {
   "cell_type": "markdown",
   "metadata": {},
   "source": [
    "Standardize the features by removing the mean and scaling to unit variance."
   ]
  },
  {
   "cell_type": "code",
   "execution_count": 9,
   "metadata": {},
   "outputs": [],
   "source": [
    "scaler = preprocessing.StandardScaler()"
   ]
  },
  {
   "cell_type": "markdown",
   "metadata": {},
   "source": [
    "Next, define the estimators you want to use for classification. The following example uses Support Vector Machines (SVM) with the radial basis function as kernel."
   ]
  },
  {
   "cell_type": "code",
   "execution_count": 10,
   "metadata": {},
   "outputs": [],
   "source": [
    "clf = svm.SVC(kernel='rbf')"
   ]
  },
  {
   "cell_type": "markdown",
   "metadata": {},
   "source": [
    "Build the pipeline. A pipeline consists of transformer and an estimator."
   ]
  },
  {
   "cell_type": "code",
   "execution_count": 11,
   "metadata": {},
   "outputs": [],
   "source": [
    "pipeline = Pipeline([('scaler', scaler), ('svc', clf)])"
   ]
  },
  {
   "cell_type": "markdown",
   "metadata": {},
   "source": [
    "### 3.3 Train the model<a id=\"train\"></a>"
   ]
  },
  {
   "cell_type": "markdown",
   "metadata": {},
   "source": [
    "Now, you can use the **pipeline** and **train data** you defined previously to train your SVM model."
   ]
  },
  {
   "cell_type": "code",
   "execution_count": 12,
   "metadata": {},
   "outputs": [],
   "source": [
    "model = pipeline.fit(train_data, train_labels)"
   ]
  },
  {
   "cell_type": "markdown",
   "metadata": {},
   "source": [
    "Use **test data** to generate an evaluation report to check your **model quality**."
   ]
  },
  {
   "cell_type": "code",
   "execution_count": 13,
   "metadata": {},
   "outputs": [
    {
     "name": "stdout",
     "output_type": "stream",
     "text": [
      "Evaluation report: \n",
      "\n",
      "             precision    recall  f1-score   support\n",
      "\n",
      "          0       1.00      0.97      0.99        37\n",
      "          1       0.97      0.97      0.97        34\n",
      "          2       1.00      0.97      0.99        36\n",
      "          3       1.00      0.94      0.97        35\n",
      "          4       0.78      0.97      0.87        37\n",
      "          5       0.97      0.97      0.97        38\n",
      "          6       0.97      0.86      0.91        36\n",
      "          7       0.92      0.97      0.94        35\n",
      "          8       0.91      0.89      0.90        35\n",
      "          9       0.97      0.92      0.94        37\n",
      "\n",
      "avg / total       0.95      0.94      0.95       360\n",
      "\n"
     ]
    }
   ],
   "source": [
    "# Evaluate your model.\n",
    "predicted = model.predict(test_data)\n",
    "\n",
    "print(\"Evaluation report: \\n\\n%s\" % metrics.classification_report(test_labels, predicted))"
   ]
  },
  {
   "cell_type": "markdown",
   "metadata": {
    "collapsed": true
   },
   "source": [
    "**Note:** You can tune your model to achieve better accuracy. For simplicity of this example, the tuning section is omitted."
   ]
  },
  {
   "cell_type": "markdown",
   "metadata": {
    "collapsed": true
   },
   "source": [
    "<a id=\"persistence\"></a>\n",
    "## 4. Work with the WML repository"
   ]
  },
  {
   "cell_type": "markdown",
   "metadata": {},
   "source": [
    "In this section you will learn how to use the common Python client to manage your model in the WML repository.\n",
    "\n",
    "- [Work with your WML instance](#work)\n",
    "- [Save the model to the WML repository](#save)\n",
    "- [Load a model from the WML repository](#load)\n",
    "- [Delete a model from the WML repository](#delete)"
   ]
  },
  {
   "cell_type": "markdown",
   "metadata": {},
   "source": [
    "**Tip**: You can find more information about the watson-machine-learning-client [here](https://wml-api-pyclient.mybluemix.net)."
   ]
  },
  {
   "cell_type": "markdown",
   "metadata": {},
   "source": [
    "### 4.1 Work with your WML instance<a id=\"work\"></a>"
   ]
  },
  {
   "cell_type": "markdown",
   "metadata": {
    "collapsed": true
   },
   "source": [
    "First, you must import client libraries."
   ]
  },
  {
   "cell_type": "code",
   "execution_count": 14,
   "metadata": {},
   "outputs": [],
   "source": [
    "from watson_machine_learning_client import WatsonMachineLearningAPIClient"
   ]
  },
  {
   "cell_type": "markdown",
   "metadata": {},
   "source": [
    "Authenticate to the Watson Machine Learning service on IBM Cloud.\n",
    "\n",
    "**Tip**: Authentication information (your credentials) can be found in the [Service Credentials](https://console.bluemix.net/docs/services/service_credentials.html#service_credentials) tab of the service instance that you created on IBM Cloud. <BR>If you cannot see the **instance_id** field in **Service Credentials**, click **New credential (+)** to generate new authentication information. \n",
    "\n",
    "**Action**: Enter your Watson Machine Learning service instance credentials here.\n"
   ]
  },
  {
   "cell_type": "code",
   "execution_count": 15,
   "metadata": {},
   "outputs": [],
   "source": [
    "wml_credentials = {\n",
    "  \"username\": \"****\",\n",
    "  \"password\": \"****\",\n",
    "  \"instance_id\": \"****\",\n",
    "  \"url\": \"https://ibm-watson-ml.mybluemix.net\"\n",
    "}"
   ]
  },
  {
   "cell_type": "markdown",
   "metadata": {},
   "source": [
    "#### Create the API client. "
   ]
  },
  {
   "cell_type": "code",
   "execution_count": 16,
   "metadata": {},
   "outputs": [],
   "source": [
    "client = WatsonMachineLearningAPIClient(wml_credentials)"
   ]
  },
  {
   "cell_type": "markdown",
   "metadata": {},
   "source": [
    "#### Get instance details."
   ]
  },
  {
   "cell_type": "code",
   "execution_count": 17,
   "metadata": {},
   "outputs": [],
   "source": [
    "import json\n",
    "\n",
    "instance_details = client.service_instance.get_details()"
   ]
  },
  {
   "cell_type": "markdown",
   "metadata": {},
   "source": [
    "### 4.2 Save the model to the WML repository<a id=\"save\"></a>"
   ]
  },
  {
   "cell_type": "markdown",
   "metadata": {},
   "source": [
    "Define the model name, author name and email."
   ]
  },
  {
   "cell_type": "code",
   "execution_count": 18,
   "metadata": {},
   "outputs": [],
   "source": [
    "published_model = client.repository.store_model(model=model, meta_props={'name':'Digits prediction model'}, \\\n",
    "                                                training_data=train_data, training_target=train_labels)"
   ]
  },
  {
   "cell_type": "markdown",
   "metadata": {},
   "source": [
    "#### Get information about a specific model in the WML repository."
   ]
  },
  {
   "cell_type": "code",
   "execution_count": 19,
   "metadata": {},
   "outputs": [
    {
     "name": "stdout",
     "output_type": "stream",
     "text": [
      "{\n",
      "  \"metadata\": {\n",
      "    \"url\": \"https://ibm-watson-ml.mybluemix.net/v3/wml_instances/d0755448-6eb4-425a-b35b-479be91ff2d5/published_models/4d2a4e7d-f89e-4829-bd43-0de0632f0c0b\",\n",
      "    \"guid\": \"4d2a4e7d-f89e-4829-bd43-0de0632f0c0b\",\n",
      "    \"created_at\": \"2018-05-28T18:46:55.938Z\",\n",
      "    \"modified_at\": \"2018-05-28T18:46:55.997Z\"\n",
      "  },\n",
      "  \"entity\": {\n",
      "    \"model_type\": \"scikit-learn-0.19\",\n",
      "    \"input_data_schema\": {\n",
      "      \"features\": {\n",
      "        \"fields\": [\n",
      "          {\n",
      "            \"type\": \"float\",\n",
      "            \"name\": \"f0\"\n",
      "          },\n",
      "          {\n",
      "            \"type\": \"float\",\n",
      "            \"name\": \"f1\"\n",
      "          },\n",
      "          {\n",
      "            \"type\": \"float\",\n",
      "            \"name\": \"f2\"\n",
      "          },\n",
      "          {\n",
      "            \"type\": \"float\",\n",
      "            \"name\": \"f3\"\n",
      "          },\n",
      "          {\n",
      "            \"type\": \"float\",\n",
      "            \"name\": \"f4\"\n",
      "          },\n",
      "          {\n",
      "            \"type\": \"float\",\n",
      "            \"name\": \"f5\"\n",
      "          },\n",
      "          {\n",
      "            \"type\": \"float\",\n",
      "            \"name\": \"f6\"\n",
      "          },\n",
      "          {\n",
      "            \"type\": \"float\",\n",
      "            \"name\": \"f7\"\n",
      "          },\n",
      "          {\n",
      "            \"type\": \"float\",\n",
      "            \"name\": \"f8\"\n",
      "          },\n",
      "          {\n",
      "            \"type\": \"float\",\n",
      "            \"name\": \"f9\"\n",
      "          },\n",
      "          {\n",
      "            \"type\": \"float\",\n",
      "            \"name\": \"f10\"\n",
      "          },\n",
      "          {\n",
      "            \"type\": \"float\",\n",
      "            \"name\": \"f11\"\n",
      "          },\n",
      "          {\n",
      "            \"type\": \"float\",\n",
      "            \"name\": \"f12\"\n",
      "          },\n",
      "          {\n",
      "            \"type\": \"float\",\n",
      "            \"name\": \"f13\"\n",
      "          },\n",
      "          {\n",
      "            \"type\": \"float\",\n",
      "            \"name\": \"f14\"\n",
      "          },\n",
      "          {\n",
      "            \"type\": \"float\",\n",
      "            \"name\": \"f15\"\n",
      "          },\n",
      "          {\n",
      "            \"type\": \"float\",\n",
      "            \"name\": \"f16\"\n",
      "          },\n",
      "          {\n",
      "            \"type\": \"float\",\n",
      "            \"name\": \"f17\"\n",
      "          },\n",
      "          {\n",
      "            \"type\": \"float\",\n",
      "            \"name\": \"f18\"\n",
      "          },\n",
      "          {\n",
      "            \"type\": \"float\",\n",
      "            \"name\": \"f19\"\n",
      "          },\n",
      "          {\n",
      "            \"type\": \"float\",\n",
      "            \"name\": \"f20\"\n",
      "          },\n",
      "          {\n",
      "            \"type\": \"float\",\n",
      "            \"name\": \"f21\"\n",
      "          },\n",
      "          {\n",
      "            \"type\": \"float\",\n",
      "            \"name\": \"f22\"\n",
      "          },\n",
      "          {\n",
      "            \"type\": \"float\",\n",
      "            \"name\": \"f23\"\n",
      "          },\n",
      "          {\n",
      "            \"type\": \"float\",\n",
      "            \"name\": \"f24\"\n",
      "          },\n",
      "          {\n",
      "            \"type\": \"float\",\n",
      "            \"name\": \"f25\"\n",
      "          },\n",
      "          {\n",
      "            \"type\": \"float\",\n",
      "            \"name\": \"f26\"\n",
      "          },\n",
      "          {\n",
      "            \"type\": \"float\",\n",
      "            \"name\": \"f27\"\n",
      "          },\n",
      "          {\n",
      "            \"type\": \"float\",\n",
      "            \"name\": \"f28\"\n",
      "          },\n",
      "          {\n",
      "            \"type\": \"float\",\n",
      "            \"name\": \"f29\"\n",
      "          },\n",
      "          {\n",
      "            \"type\": \"float\",\n",
      "            \"name\": \"f30\"\n",
      "          },\n",
      "          {\n",
      "            \"type\": \"float\",\n",
      "            \"name\": \"f31\"\n",
      "          },\n",
      "          {\n",
      "            \"type\": \"float\",\n",
      "            \"name\": \"f32\"\n",
      "          },\n",
      "          {\n",
      "            \"type\": \"float\",\n",
      "            \"name\": \"f33\"\n",
      "          },\n",
      "          {\n",
      "            \"type\": \"float\",\n",
      "            \"name\": \"f34\"\n",
      "          },\n",
      "          {\n",
      "            \"type\": \"float\",\n",
      "            \"name\": \"f35\"\n",
      "          },\n",
      "          {\n",
      "            \"type\": \"float\",\n",
      "            \"name\": \"f36\"\n",
      "          },\n",
      "          {\n",
      "            \"type\": \"float\",\n",
      "            \"name\": \"f37\"\n",
      "          },\n",
      "          {\n",
      "            \"type\": \"float\",\n",
      "            \"name\": \"f38\"\n",
      "          },\n",
      "          {\n",
      "            \"type\": \"float\",\n",
      "            \"name\": \"f39\"\n",
      "          },\n",
      "          {\n",
      "            \"type\": \"float\",\n",
      "            \"name\": \"f40\"\n",
      "          },\n",
      "          {\n",
      "            \"type\": \"float\",\n",
      "            \"name\": \"f41\"\n",
      "          },\n",
      "          {\n",
      "            \"type\": \"float\",\n",
      "            \"name\": \"f42\"\n",
      "          },\n",
      "          {\n",
      "            \"type\": \"float\",\n",
      "            \"name\": \"f43\"\n",
      "          },\n",
      "          {\n",
      "            \"type\": \"float\",\n",
      "            \"name\": \"f44\"\n",
      "          },\n",
      "          {\n",
      "            \"type\": \"float\",\n",
      "            \"name\": \"f45\"\n",
      "          },\n",
      "          {\n",
      "            \"type\": \"float\",\n",
      "            \"name\": \"f46\"\n",
      "          },\n",
      "          {\n",
      "            \"type\": \"float\",\n",
      "            \"name\": \"f47\"\n",
      "          },\n",
      "          {\n",
      "            \"type\": \"float\",\n",
      "            \"name\": \"f48\"\n",
      "          },\n",
      "          {\n",
      "            \"type\": \"float\",\n",
      "            \"name\": \"f49\"\n",
      "          },\n",
      "          {\n",
      "            \"type\": \"float\",\n",
      "            \"name\": \"f50\"\n",
      "          },\n",
      "          {\n",
      "            \"type\": \"float\",\n",
      "            \"name\": \"f51\"\n",
      "          },\n",
      "          {\n",
      "            \"type\": \"float\",\n",
      "            \"name\": \"f52\"\n",
      "          },\n",
      "          {\n",
      "            \"type\": \"float\",\n",
      "            \"name\": \"f53\"\n",
      "          },\n",
      "          {\n",
      "            \"type\": \"float\",\n",
      "            \"name\": \"f54\"\n",
      "          },\n",
      "          {\n",
      "            \"type\": \"float\",\n",
      "            \"name\": \"f55\"\n",
      "          },\n",
      "          {\n",
      "            \"type\": \"float\",\n",
      "            \"name\": \"f56\"\n",
      "          },\n",
      "          {\n",
      "            \"type\": \"float\",\n",
      "            \"name\": \"f57\"\n",
      "          },\n",
      "          {\n",
      "            \"type\": \"float\",\n",
      "            \"name\": \"f58\"\n",
      "          },\n",
      "          {\n",
      "            \"type\": \"float\",\n",
      "            \"name\": \"f59\"\n",
      "          },\n",
      "          {\n",
      "            \"type\": \"float\",\n",
      "            \"name\": \"f60\"\n",
      "          },\n",
      "          {\n",
      "            \"type\": \"float\",\n",
      "            \"name\": \"f61\"\n",
      "          },\n",
      "          {\n",
      "            \"type\": \"float\",\n",
      "            \"name\": \"f62\"\n",
      "          },\n",
      "          {\n",
      "            \"type\": \"float\",\n",
      "            \"name\": \"f63\"\n",
      "          }\n",
      "        ],\n",
      "        \"type\": \"ndarray\"\n",
      "      },\n",
      "      \"labels\": {\n",
      "        \"fields\": [\n",
      "          {\n",
      "            \"type\": \"int\",\n",
      "            \"name\": \"l1\"\n",
      "          }\n",
      "        ],\n",
      "        \"type\": \"ndarray\"\n",
      "      }\n",
      "    },\n",
      "    \"training_data_schema\": {\n",
      "      \"features\": {\n",
      "        \"fields\": [\n",
      "          {\n",
      "            \"type\": \"float\",\n",
      "            \"name\": \"f0\"\n",
      "          },\n",
      "          {\n",
      "            \"type\": \"float\",\n",
      "            \"name\": \"f1\"\n",
      "          },\n",
      "          {\n",
      "            \"type\": \"float\",\n",
      "            \"name\": \"f2\"\n",
      "          },\n",
      "          {\n",
      "            \"type\": \"float\",\n",
      "            \"name\": \"f3\"\n",
      "          },\n",
      "          {\n",
      "            \"type\": \"float\",\n",
      "            \"name\": \"f4\"\n",
      "          },\n",
      "          {\n",
      "            \"type\": \"float\",\n",
      "            \"name\": \"f5\"\n",
      "          },\n",
      "          {\n",
      "            \"type\": \"float\",\n",
      "            \"name\": \"f6\"\n",
      "          },\n",
      "          {\n",
      "            \"type\": \"float\",\n",
      "            \"name\": \"f7\"\n",
      "          },\n",
      "          {\n",
      "            \"type\": \"float\",\n",
      "            \"name\": \"f8\"\n",
      "          },\n",
      "          {\n",
      "            \"type\": \"float\",\n",
      "            \"name\": \"f9\"\n",
      "          },\n",
      "          {\n",
      "            \"type\": \"float\",\n",
      "            \"name\": \"f10\"\n",
      "          },\n",
      "          {\n",
      "            \"type\": \"float\",\n",
      "            \"name\": \"f11\"\n",
      "          },\n",
      "          {\n",
      "            \"type\": \"float\",\n",
      "            \"name\": \"f12\"\n",
      "          },\n",
      "          {\n",
      "            \"type\": \"float\",\n",
      "            \"name\": \"f13\"\n",
      "          },\n",
      "          {\n",
      "            \"type\": \"float\",\n",
      "            \"name\": \"f14\"\n",
      "          },\n",
      "          {\n",
      "            \"type\": \"float\",\n",
      "            \"name\": \"f15\"\n",
      "          },\n",
      "          {\n",
      "            \"type\": \"float\",\n",
      "            \"name\": \"f16\"\n",
      "          },\n",
      "          {\n",
      "            \"type\": \"float\",\n",
      "            \"name\": \"f17\"\n",
      "          },\n",
      "          {\n",
      "            \"type\": \"float\",\n",
      "            \"name\": \"f18\"\n",
      "          },\n",
      "          {\n",
      "            \"type\": \"float\",\n",
      "            \"name\": \"f19\"\n",
      "          },\n",
      "          {\n",
      "            \"type\": \"float\",\n",
      "            \"name\": \"f20\"\n",
      "          },\n",
      "          {\n",
      "            \"type\": \"float\",\n",
      "            \"name\": \"f21\"\n",
      "          },\n",
      "          {\n",
      "            \"type\": \"float\",\n",
      "            \"name\": \"f22\"\n",
      "          },\n",
      "          {\n",
      "            \"type\": \"float\",\n",
      "            \"name\": \"f23\"\n",
      "          },\n",
      "          {\n",
      "            \"type\": \"float\",\n",
      "            \"name\": \"f24\"\n",
      "          },\n",
      "          {\n",
      "            \"type\": \"float\",\n",
      "            \"name\": \"f25\"\n",
      "          },\n",
      "          {\n",
      "            \"type\": \"float\",\n",
      "            \"name\": \"f26\"\n",
      "          },\n",
      "          {\n",
      "            \"type\": \"float\",\n",
      "            \"name\": \"f27\"\n",
      "          },\n",
      "          {\n",
      "            \"type\": \"float\",\n",
      "            \"name\": \"f28\"\n",
      "          },\n",
      "          {\n",
      "            \"type\": \"float\",\n",
      "            \"name\": \"f29\"\n",
      "          },\n",
      "          {\n",
      "            \"type\": \"float\",\n",
      "            \"name\": \"f30\"\n",
      "          },\n",
      "          {\n",
      "            \"type\": \"float\",\n",
      "            \"name\": \"f31\"\n",
      "          },\n",
      "          {\n",
      "            \"type\": \"float\",\n",
      "            \"name\": \"f32\"\n",
      "          },\n",
      "          {\n",
      "            \"type\": \"float\",\n",
      "            \"name\": \"f33\"\n",
      "          },\n",
      "          {\n",
      "            \"type\": \"float\",\n",
      "            \"name\": \"f34\"\n",
      "          },\n",
      "          {\n",
      "            \"type\": \"float\",\n",
      "            \"name\": \"f35\"\n",
      "          },\n",
      "          {\n",
      "            \"type\": \"float\",\n",
      "            \"name\": \"f36\"\n",
      "          },\n",
      "          {\n",
      "            \"type\": \"float\",\n",
      "            \"name\": \"f37\"\n",
      "          },\n",
      "          {\n",
      "            \"type\": \"float\",\n",
      "            \"name\": \"f38\"\n",
      "          },\n",
      "          {\n",
      "            \"type\": \"float\",\n",
      "            \"name\": \"f39\"\n",
      "          },\n",
      "          {\n",
      "            \"type\": \"float\",\n",
      "            \"name\": \"f40\"\n",
      "          },\n",
      "          {\n",
      "            \"type\": \"float\",\n",
      "            \"name\": \"f41\"\n",
      "          },\n",
      "          {\n",
      "            \"type\": \"float\",\n",
      "            \"name\": \"f42\"\n",
      "          },\n",
      "          {\n",
      "            \"type\": \"float\",\n",
      "            \"name\": \"f43\"\n",
      "          },\n",
      "          {\n",
      "            \"type\": \"float\",\n",
      "            \"name\": \"f44\"\n",
      "          },\n",
      "          {\n",
      "            \"type\": \"float\",\n",
      "            \"name\": \"f45\"\n",
      "          },\n",
      "          {\n",
      "            \"type\": \"float\",\n",
      "            \"name\": \"f46\"\n",
      "          },\n",
      "          {\n",
      "            \"type\": \"float\",\n",
      "            \"name\": \"f47\"\n",
      "          },\n",
      "          {\n",
      "            \"type\": \"float\",\n",
      "            \"name\": \"f48\"\n",
      "          },\n",
      "          {\n",
      "            \"type\": \"float\",\n",
      "            \"name\": \"f49\"\n",
      "          },\n",
      "          {\n",
      "            \"type\": \"float\",\n",
      "            \"name\": \"f50\"\n",
      "          },\n",
      "          {\n",
      "            \"type\": \"float\",\n",
      "            \"name\": \"f51\"\n",
      "          },\n",
      "          {\n",
      "            \"type\": \"float\",\n",
      "            \"name\": \"f52\"\n",
      "          },\n",
      "          {\n",
      "            \"type\": \"float\",\n",
      "            \"name\": \"f53\"\n",
      "          },\n",
      "          {\n",
      "            \"type\": \"float\",\n",
      "            \"name\": \"f54\"\n",
      "          },\n",
      "          {\n",
      "            \"type\": \"float\",\n",
      "            \"name\": \"f55\"\n",
      "          },\n",
      "          {\n",
      "            \"type\": \"float\",\n",
      "            \"name\": \"f56\"\n",
      "          },\n",
      "          {\n",
      "            \"type\": \"float\",\n",
      "            \"name\": \"f57\"\n",
      "          },\n",
      "          {\n",
      "            \"type\": \"float\",\n",
      "            \"name\": \"f58\"\n",
      "          },\n",
      "          {\n",
      "            \"type\": \"float\",\n",
      "            \"name\": \"f59\"\n",
      "          },\n",
      "          {\n",
      "            \"type\": \"float\",\n",
      "            \"name\": \"f60\"\n",
      "          },\n",
      "          {\n",
      "            \"type\": \"float\",\n",
      "            \"name\": \"f61\"\n",
      "          },\n",
      "          {\n",
      "            \"type\": \"float\",\n",
      "            \"name\": \"f62\"\n",
      "          },\n",
      "          {\n",
      "            \"type\": \"float\",\n",
      "            \"name\": \"f63\"\n",
      "          }\n",
      "        ],\n",
      "        \"type\": \"ndarray\"\n",
      "      },\n",
      "      \"labels\": {\n",
      "        \"fields\": [\n",
      "          {\n",
      "            \"type\": \"int\",\n",
      "            \"name\": \"l1\"\n",
      "          }\n",
      "        ],\n",
      "        \"type\": \"ndarray\"\n",
      "      }\n",
      "    },\n",
      "    \"learning_iterations_url\": \"https://ibm-watson-ml.mybluemix.net/v3/wml_instances/d0755448-6eb4-425a-b35b-479be91ff2d5/published_models/4d2a4e7d-f89e-4829-bd43-0de0632f0c0b/learning_iterations\",\n",
      "    \"deployments\": {\n",
      "      \"url\": \"https://ibm-watson-ml.mybluemix.net/v3/wml_instances/d0755448-6eb4-425a-b35b-479be91ff2d5/published_models/4d2a4e7d-f89e-4829-bd43-0de0632f0c0b/deployments\",\n",
      "      \"count\": 0\n",
      "    },\n",
      "    \"evaluation_metrics_url\": \"https://ibm-watson-ml.mybluemix.net/v3/wml_instances/d0755448-6eb4-425a-b35b-479be91ff2d5/published_models/4d2a4e7d-f89e-4829-bd43-0de0632f0c0b/evaluation_metrics\",\n",
      "    \"learning_configuration_url\": \"https://ibm-watson-ml.mybluemix.net/v3/wml_instances/d0755448-6eb4-425a-b35b-479be91ff2d5/published_models/4d2a4e7d-f89e-4829-bd43-0de0632f0c0b/learning_configuration\",\n",
      "    \"name\": \"Digits prediction model\",\n",
      "    \"runtime_environment\": \"python-3.5\",\n",
      "    \"feedback_url\": \"https://ibm-watson-ml.mybluemix.net/v3/wml_instances/d0755448-6eb4-425a-b35b-479be91ff2d5/published_models/4d2a4e7d-f89e-4829-bd43-0de0632f0c0b/feedback\",\n",
      "    \"latest_version\": {\n",
      "      \"url\": \"https://ibm-watson-ml.mybluemix.net/v3/ml_assets/models/4d2a4e7d-f89e-4829-bd43-0de0632f0c0b/versions/cf5dbaef-9f44-46be-aa0c-7f17fa2454f0\",\n",
      "      \"guid\": \"cf5dbaef-9f44-46be-aa0c-7f17fa2454f0\",\n",
      "      \"created_at\": \"2018-05-28T18:46:55.997Z\"\n",
      "    },\n",
      "    \"label_col\": \"l1\"\n",
      "  }\n",
      "}\n"
     ]
    }
   ],
   "source": [
    "published_model_uid = client.repository.get_model_uid(published_model)\n",
    "model_details = client.repository.get_details(published_model_uid)\n",
    "\n",
    "print(json.dumps(model_details, indent=2))"
   ]
  },
  {
   "cell_type": "markdown",
   "metadata": {},
   "source": [
    "#### Get information about all of the models in the WML repository."
   ]
  },
  {
   "cell_type": "code",
   "execution_count": 20,
   "metadata": {},
   "outputs": [
    {
     "name": "stdout",
     "output_type": "stream",
     "text": [
      "------------------------------------  -----------------------  ------------------------  -----------------\n",
      "GUID                                  NAME                     CREATED                   FRAMEWORK\n",
      "4d2a4e7d-f89e-4829-bd43-0de0632f0c0b  Digits prediction model  2018-05-28T18:46:55.938Z  scikit-learn-0.19\n",
      "------------------------------------  -----------------------  ------------------------  -----------------\n"
     ]
    }
   ],
   "source": [
    "models_details = client.repository.list_models()"
   ]
  },
  {
   "cell_type": "markdown",
   "metadata": {},
   "source": [
    "### 4.3 Load a model from the WML repository<a id=\"load\"></a>"
   ]
  },
  {
   "cell_type": "markdown",
   "metadata": {},
   "source": [
    "In this subsection you will learn how to load a saved model from a specific WML instance."
   ]
  },
  {
   "cell_type": "code",
   "execution_count": 21,
   "metadata": {},
   "outputs": [],
   "source": [
    "loaded_model = client.repository.load(published_model_uid)"
   ]
  },
  {
   "cell_type": "markdown",
   "metadata": {},
   "source": [
    "Make test predictions to check that the model has been loaded correctly."
   ]
  },
  {
   "cell_type": "code",
   "execution_count": 22,
   "metadata": {},
   "outputs": [],
   "source": [
    "test_predictions = loaded_model.predict(test_data[:10])"
   ]
  },
  {
   "cell_type": "code",
   "execution_count": 23,
   "metadata": {},
   "outputs": [
    {
     "name": "stdout",
     "output_type": "stream",
     "text": [
      "[4 0 5 3 6 9 6 4 7 5]\n"
     ]
    }
   ],
   "source": [
    "print(test_predictions)"
   ]
  },
  {
   "cell_type": "markdown",
   "metadata": {},
   "source": [
    "As you can see you are able to make predictions, which means that the model has loaded correctly. You have now  learned how save to and load the model from the WML repository."
   ]
  },
  {
   "cell_type": "markdown",
   "metadata": {},
   "source": [
    "### 4.4 Delete a model from the WML repository<a id=\"delete\"></a>"
   ]
  },
  {
   "cell_type": "markdown",
   "metadata": {},
   "source": [
    "The code in the following cell deletes a published model from the WML repository. The code is commented out at this stage because you still need the model for deployment."
   ]
  },
  {
   "cell_type": "code",
   "execution_count": null,
   "metadata": {},
   "outputs": [],
   "source": [
    "# client.repository.delete(published_model_uid)"
   ]
  },
  {
   "cell_type": "markdown",
   "metadata": {},
   "source": [
    "<a id=\"scoring\"></a>\n",
    "## 5. Deploy and score data in the IBM Cloud"
   ]
  },
  {
   "cell_type": "markdown",
   "metadata": {},
   "source": [
    "In this section you will learn how to use the WML client to create online scoring and to score a new data record.\n",
    "\n",
    "- [Create the online deployment for the published model](#create)\n",
    "- [Get deployments](#getdeploy)\n",
    "- [Score data](#score)\n",
    "- [Delete the deployment](#deldeploy)\n",
    "- [Delete the model](#delmodel)\n"
   ]
  },
  {
   "cell_type": "markdown",
   "metadata": {},
   "source": [
    "### 5.1 Create the online deployment for the published model<a id=\"create\"></a>"
   ]
  },
  {
   "cell_type": "code",
   "execution_count": 24,
   "metadata": {},
   "outputs": [
    {
     "name": "stdout",
     "output_type": "stream",
     "text": [
      "\n",
      "\n",
      "#######################################################################################\n",
      "\n",
      "Synchronous deployment creation for uid: '9312d59f-616c-4e87-a371-06184ba9e901' started\n",
      "\n",
      "#######################################################################################\n",
      "\n",
      "\n",
      "INITIALIZING\n",
      "DEPLOY_SUCCESS\n",
      "\n",
      "\n",
      "------------------------------------------------------------------------------------------------\n",
      "Successfully finished deployment creation, deployment_uid='9312d59f-616c-4e87-a371-06184ba9e901'\n",
      "------------------------------------------------------------------------------------------------\n",
      "\n",
      "\n"
     ]
    }
   ],
   "source": [
    "created_deployment = client.deployments.create(published_model_uid, \"Deployment of scikit model\")"
   ]
  },
  {
   "cell_type": "markdown",
   "metadata": {},
   "source": [
    "**Note**: Here you use the deployment url saved in published_model object. The next section shows you how to retrieve the deployment url from WML instance."
   ]
  },
  {
   "cell_type": "markdown",
   "metadata": {},
   "source": [
    "Now you can define and print an online scoring endpoint. "
   ]
  },
  {
   "cell_type": "code",
   "execution_count": 25,
   "metadata": {},
   "outputs": [
    {
     "name": "stdout",
     "output_type": "stream",
     "text": [
      "https://ibm-watson-ml.mybluemix.net/v3/wml_instances/d0755448-6eb4-425a-b35b-479be91ff2d5/published_models/4d2a4e7d-f89e-4829-bd43-0de0632f0c0b/deployments/9312d59f-616c-4e87-a371-06184ba9e901/online\n"
     ]
    }
   ],
   "source": [
    "scoring_endpoint = client.deployments.get_scoring_url(created_deployment)\n",
    "\n",
    "print(scoring_endpoint)"
   ]
  },
  {
   "cell_type": "markdown",
   "metadata": {},
   "source": [
    "### 5.2 Get deployments<a id=\"getdeploy\"></a>"
   ]
  },
  {
   "cell_type": "code",
   "execution_count": 26,
   "metadata": {},
   "outputs": [],
   "source": [
    "deployments = client.deployments.get_details()"
   ]
  },
  {
   "cell_type": "markdown",
   "metadata": {},
   "source": [
    "You can get the deployment_url by parsing the deployment details for the last deployed model."
   ]
  },
  {
   "cell_type": "code",
   "execution_count": 27,
   "metadata": {},
   "outputs": [
    {
     "name": "stdout",
     "output_type": "stream",
     "text": [
      "https://ibm-watson-ml.mybluemix.net/v3/wml_instances/d0755448-6eb4-425a-b35b-479be91ff2d5/published_models/4d2a4e7d-f89e-4829-bd43-0de0632f0c0b/deployments/9312d59f-616c-4e87-a371-06184ba9e901\n"
     ]
    }
   ],
   "source": [
    "deployment_url = client.deployments.get_url(created_deployment)\n",
    "\n",
    "print(deployment_url)"
   ]
  },
  {
   "cell_type": "markdown",
   "metadata": {},
   "source": [
    "### 5.3 Score data<a id=\"score\"></a>"
   ]
  },
  {
   "cell_type": "markdown",
   "metadata": {},
   "source": [
    "Use the following method to run a test scoring request against the deployed model."
   ]
  },
  {
   "cell_type": "markdown",
   "metadata": {},
   "source": [
    "**Action**: Prepare scoring payload with the records to score."
   ]
  },
  {
   "cell_type": "code",
   "execution_count": 28,
   "metadata": {},
   "outputs": [],
   "source": [
    "scoring_payload = {\"values\": [list(score_data[0]), list(score_data[1])]}"
   ]
  },
  {
   "cell_type": "markdown",
   "metadata": {},
   "source": [
    "Use the ``client.deployments.score()`` method to run the scoring."
   ]
  },
  {
   "cell_type": "code",
   "execution_count": 29,
   "metadata": {},
   "outputs": [],
   "source": [
    "predictions = client.deployments.score(scoring_endpoint, scoring_payload)"
   ]
  },
  {
   "cell_type": "code",
   "execution_count": 30,
   "metadata": {},
   "outputs": [
    {
     "name": "stdout",
     "output_type": "stream",
     "text": [
      "{\n",
      "  \"fields\": [\n",
      "    \"prediction\"\n",
      "  ],\n",
      "  \"values\": [\n",
      "    [\n",
      "      5\n",
      "    ],\n",
      "    [\n",
      "      2\n",
      "    ]\n",
      "  ]\n",
      "}\n"
     ]
    }
   ],
   "source": [
    "print(json.dumps(predictions, indent=2))"
   ]
  },
  {
   "cell_type": "markdown",
   "metadata": {},
   "source": [
    "### 5.4 Delete the deployment<a id=\"deldeploy\"></a>"
   ]
  },
  {
   "cell_type": "markdown",
   "metadata": {},
   "source": [
    "Use the following method to delete the deployment."
   ]
  },
  {
   "cell_type": "code",
   "execution_count": 31,
   "metadata": {},
   "outputs": [],
   "source": [
    "client.deployments.delete(client.deployments.get_uid(created_deployment))"
   ]
  },
  {
   "cell_type": "markdown",
   "metadata": {},
   "source": [
    "You can check that your deployment was deleted by generating a list of your saved deployments:"
   ]
  },
  {
   "cell_type": "code",
   "execution_count": 32,
   "metadata": {},
   "outputs": [
    {
     "name": "stdout",
     "output_type": "stream",
     "text": [
      "----  ----  ----  -----  -------  ---------\n",
      "GUID  NAME  TYPE  STATE  CREATED  FRAMEWORK\n",
      "----  ----  ----  -----  -------  ---------\n"
     ]
    }
   ],
   "source": [
    "client.deployments.list()"
   ]
  },
  {
   "cell_type": "markdown",
   "metadata": {},
   "source": [
    "### 5.5 Delete the model<a id=\"delmodel\"></a>"
   ]
  },
  {
   "cell_type": "code",
   "execution_count": 33,
   "metadata": {},
   "outputs": [],
   "source": [
    "client.repository.delete(published_model_uid)"
   ]
  },
  {
   "cell_type": "markdown",
   "metadata": {},
   "source": [
    "You can check that your model was deleted by generating a list of your saved models:"
   ]
  },
  {
   "cell_type": "code",
   "execution_count": 34,
   "metadata": {},
   "outputs": [
    {
     "name": "stdout",
     "output_type": "stream",
     "text": [
      "----  ----  -------  ---------\n",
      "GUID  NAME  CREATED  FRAMEWORK\n",
      "----  ----  -------  ---------\n"
     ]
    }
   ],
   "source": [
    "client.repository.list_models()"
   ]
  },
  {
   "cell_type": "markdown",
   "metadata": {
    "collapsed": true
   },
   "source": [
    "<a id=\"summary\"></a>\n",
    "## 6. Summary and next steps     "
   ]
  },
  {
   "cell_type": "markdown",
   "metadata": {
    "collapsed": true
   },
   "source": [
    "You successfully completed this notebook! \n",
    " \n",
    "You learned how to use scikit-learn machine learning as well as Watson Machine Learning for model creation and deployment. \n",
    "\n",
    "Check out our [Online Documentation](https://dataplatform.ibm.com/docs/content/analyze-data/wml-setup.html) for more samples, tutorials, documentation, how-tos, and blog posts. "
   ]
  },
  {
   "cell_type": "markdown",
   "metadata": {},
   "source": [
    "### Author\n",
    "\n",
    "**Wojciech Sobala** is a Data Scientist at IBM developing enterprise-level applications that substantially increases clients' ability to turn data into actionable knowledge."
   ]
  },
  {
   "cell_type": "markdown",
   "metadata": {},
   "source": [
    "Copyright © 2017, 2018 IBM. This notebook and its source code are released under the terms of the MIT License."
   ]
  },
  {
   "cell_type": "markdown",
   "metadata": {},
   "source": [
    "<div style=\"background:#F5F7FA; height:110px; padding: 2em; font-size:14px;\">\n",
    "<span style=\"font-size:18px;color:#152935;\">Love this notebook? </span>\n",
    "<span style=\"font-size:15px;color:#152935;float:right;margin-right:40px;\">Don't have an account yet?</span><br>\n",
    "<span style=\"color:#5A6872;\">Share it with your colleagues and help them discover the power of Watson Studio!</span>\n",
    "<span style=\"border: 1px solid #3d70b2;padding:8px;float:right;margin-right:40px; color:#3d70b2;\"><a href=\"https://ibm.co/wsnotebooks\" target=\"_blank\" style=\"color: #3d70b2;text-decoration: none;\">Sign Up</a></span><br>\n",
    "</div>"
   ]
  }
 ],
 "metadata": {
  "kernelspec": {
   "display_name": "Python 3.5",
   "language": "python",
   "name": "python3"
  },
  "language_info": {
   "codemirror_mode": {
    "name": "ipython",
    "version": 3
   },
   "file_extension": ".py",
   "mimetype": "text/x-python",
   "name": "python",
   "nbconvert_exporter": "python",
   "pygments_lexer": "ipython3",
   "version": "3.5.4"
  }
 },
 "nbformat": 4,
 "nbformat_minor": 1
}
